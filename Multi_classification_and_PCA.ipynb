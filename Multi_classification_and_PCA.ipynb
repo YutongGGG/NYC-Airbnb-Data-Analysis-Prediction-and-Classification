{
 "cells": [
  {
   "cell_type": "markdown",
   "id": "8ea89602",
   "metadata": {},
   "source": [
    "# Classification - recommend level (by random forest)"
   ]
  },
  {
   "cell_type": "code",
   "execution_count": 25,
   "id": "f71afafd",
   "metadata": {},
   "outputs": [],
   "source": [
    "# %pip install --upgrade imbalanced-learn\n",
    "\n",
    "import pandas as pd\n",
    "import numpy as np\n",
    "import matplotlib.pyplot as plt\n",
    "from sklearn.model_selection import train_test_split\n",
    "from sklearn.model_selection import cross_val_score"
   ]
  },
  {
   "cell_type": "code",
   "execution_count": 2,
   "id": "5ecd88d2",
   "metadata": {},
   "outputs": [
    {
     "data": {
      "text/plain": [
       "1    22271\n",
       "2     5685\n",
       "3     3443\n",
       "4     1857\n",
       "Name: level, dtype: int64"
      ]
     },
     "execution_count": 2,
     "metadata": {},
     "output_type": "execute_result"
    }
   ],
   "source": [
    "df = pd.read_csv('./data.csv')\n",
    "\n",
    "df_rl = df.copy()\n",
    "df_rl['level'] = pd.cut(df_rl['reviews_per_month'], bins=4, labels=[1, 2, 3, 4])\n",
    "df_rl.level.value_counts()"
   ]
  },
  {
   "cell_type": "code",
   "execution_count": 3,
   "id": "ee84f9fe",
   "metadata": {},
   "outputs": [],
   "source": [
    "features = ['neighbourhood_group','latitude', 'longitude', 'neighbourhood','room_type','minimum_nights', \n",
    "            'calculated_host_listings_count', 'availability_365','crimes_neigh',\n",
    "            'CMPLNT_NUM','distance to nearest subway (km)','log_price']\n",
    "\n",
    "X_clf = df_rl[[col for col in features]]\n",
    "X_encoded_clf = pd.get_dummies(X_clf,columns = ['room_type','neighbourhood_group','neighbourhood'])\n",
    "y_clf = df_rl['level']"
   ]
  },
  {
   "cell_type": "code",
   "execution_count": 4,
   "id": "db3e5712",
   "metadata": {},
   "outputs": [],
   "source": [
    "from imblearn.over_sampling import RandomOverSampler\n",
    "\n",
    "oversampler = RandomOverSampler(random_state=42)\n",
    "X_resampled, y_resampled = oversampler.fit_resample(X_encoded_clf, y_clf)\n",
    "X_train, X_test, y_train, y_test = train_test_split(X_resampled, y_resampled, test_size=0.30, random_state=42)"
   ]
  },
  {
   "cell_type": "code",
   "execution_count": 5,
   "id": "4f400db6",
   "metadata": {},
   "outputs": [
    {
     "name": "stdout",
     "output_type": "stream",
     "text": [
      "Best n_estimators: 500\n"
     ]
    }
   ],
   "source": [
    "from sklearn.ensemble import RandomForestClassifier\n",
    "\n",
    "estimators_range = [10, 50, 100, 500, 1000]\n",
    "scores = []\n",
    "for n in estimators_range:\n",
    "    rf = RandomForestClassifier(n_estimators=n, random_state=42)\n",
    "    score = cross_val_score(rf, X_train, y_train, cv=5).mean()\n",
    "    scores.append(score)\n",
    "    \n",
    "best_n = estimators_range[scores.index(max(scores))]\n",
    "print(\"Best n_estimators:\", best_n)"
   ]
  },
  {
   "cell_type": "code",
   "execution_count": 23,
   "id": "1b5a9647",
   "metadata": {},
   "outputs": [],
   "source": [
    "from sklearn.metrics import classification_report, confusion_matrix, roc_auc_score, roc_curve, accuracy_score\n",
    "from sklearn import metrics\n",
    "\n",
    "def classif_results(): \n",
    "    conf_mat = confusion_matrix(y_true=y_test, y_pred=y_pred)\n",
    "    print('Confusion matrix:\\n', conf_mat)\n",
    "\n",
    "    labels = np.unique(y_test)\n",
    "    fig = plt.figure()\n",
    "    ax = fig.add_subplot(111)\n",
    "    cax = ax.matshow(conf_mat, cmap=plt.cm.Blues)\n",
    "    fig.colorbar(cax)\n",
    "    ax.set_xticks(np.arange(len(labels)))\n",
    "    ax.set_yticks(np.arange(len(labels)))\n",
    "    ax.set_xticklabels(labels)\n",
    "    ax.set_yticklabels(labels)\n",
    "    plt.xlabel('Predicted')\n",
    "    plt.ylabel('Expected')\n",
    "    plt.show()\n",
    "\n",
    "    print(\"Accuracy\", metrics.accuracy_score(y_test, y_pred))\n",
    "\n",
    "    print(classification_report(y_test, y_pred))\n",
    "\n",
    "    n_classes = len(np.unique(y_train))\n",
    "    y_score = rf.predict_proba(X_test)"
   ]
  },
  {
   "cell_type": "code",
   "execution_count": 19,
   "id": "cd7e4426",
   "metadata": {},
   "outputs": [],
   "source": [
    "rf = RandomForestClassifier(n_estimators=best_n, random_state=42)\n",
    "rf.fit(X_train,y_train)\n",
    "y_pred = rf.predict(X_test)\n",
    "cm = confusion_matrix(y_test,y_pred)"
   ]
  },
  {
   "cell_type": "code",
   "execution_count": 24,
   "id": "29685f84",
   "metadata": {},
   "outputs": [
    {
     "name": "stdout",
     "output_type": "stream",
     "text": [
      "Confusion matrix:\n",
      " [[5498  709  325  106]\n",
      " [ 178 6477   55   23]\n",
      " [  19   11 6690   16]\n",
      " [   0    0    0 6619]]\n"
     ]
    },
    {
     "data": {
      "image/png": "[encoded data removed]",
      "text/plain": [
       "<Figure size 432x288 with 2 Axes>"
      ]
     },
     "metadata": {
      "needs_background": "light"
     },
     "output_type": "display_data"
    },
    {
     "name": "stdout",
     "output_type": "stream",
     "text": [
      "Accuracy 0.9460450497642745\n",
      "              precision    recall  f1-score   support\n",
      "\n",
      "           1       0.97      0.83      0.89      6638\n",
      "           2       0.90      0.96      0.93      6733\n",
      "           3       0.95      0.99      0.97      6736\n",
      "           4       0.98      1.00      0.99      6619\n",
      "\n",
      "    accuracy                           0.95     26726\n",
      "   macro avg       0.95      0.95      0.94     26726\n",
      "weighted avg       0.95      0.95      0.94     26726\n",
      "\n"
     ]
    }
   ],
   "source": [
    "classif_results()"
   ]
  },
  {
   "cell_type": "markdown",
   "id": "6d07be34",
   "metadata": {},
   "source": [
    "# PCA"
   ]
  },
  {
   "cell_type": "code",
   "execution_count": 20,
   "id": "11c04e27",
   "metadata": {},
   "outputs": [
    {
     "data": {
      "image/png": "[encoded data removed]",
      "text/plain": [
       "<Figure size 432x288 with 1 Axes>"
      ]
     },
     "metadata": {
      "needs_background": "light"
     },
     "output_type": "display_data"
    },
    {
     "name": "stdout",
     "output_type": "stream",
     "text": [
      "                                      PC1       PC2\n",
      "latitude                        -0.234614  0.237657\n",
      "longitude                        0.197812 -0.290804\n",
      "minimum_nights                   0.146576  0.523514\n",
      "number_of_reviews                0.424548 -0.291799\n",
      "calculated_host_listings_count   0.268545  0.594263\n",
      "availability_365                 0.691603  0.189719\n",
      "distance to nearest subway (km)  0.392008 -0.332561\n"
     ]
    }
   ],
   "source": [
    "from sklearn.decomposition import PCA\n",
    "from sklearn.preprocessing import StandardScaler\n",
    "\n",
    "features = ['latitude', 'longitude', 'minimum_nights', 'number_of_reviews', 'calculated_host_listings_count', \n",
    "            'availability_365', 'distance to nearest subway (km)']\n",
    "df_subset = df[features]\n",
    "\n",
    "scaler = StandardScaler()\n",
    "df_std = scaler.fit_transform(df_subset)\n",
    "\n",
    "pca = PCA(n_components=2)\n",
    "principal_components = pca.fit_transform(df_std)\n",
    "\n",
    "plt.scatter(principal_components[:, 0], principal_components[:, 1])\n",
    "plt.xlabel('PC1')\n",
    "plt.ylabel('PC2')\n",
    "plt.title('PCA Plot for Airbnb Features')\n",
    "plt.show()\n",
    "\n",
    "loadings = pd.DataFrame(pca.components_.T, columns=['PC1', 'PC2'], index=features)\n",
    "\n",
    "print(loadings)"
   ]
  },
  {
   "cell_type": "code",
   "execution_count": null,
   "id": "7cce4a48",
   "metadata": {},
   "outputs": [],
   "source": []
  }
 ],
 "metadata": {
  "kernelspec": {
   "display_name": "Python 3 (ipykernel)",
   "language": "python",
   "name": "python3"
  },
  "language_info": {
   "codemirror_mode": {
    "name": "ipython",
    "version": 3
   },
   "file_extension": ".py",
   "mimetype": "text/x-python",
   "name": "python",
   "nbconvert_exporter": "python",
   "pygments_lexer": "ipython3",
   "version": "3.9.12"
  }
 },
 "nbformat": 4,
 "nbformat_minor": 5
}
